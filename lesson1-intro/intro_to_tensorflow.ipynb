{
  "nbformat": 4,
  "nbformat_minor": 0,
  "metadata": {
    "colab": {
      "name": "Intro_a_tensorflow.ipynb",
      "provenance": [],
      "toc_visible": true,
      "include_colab_link": true
    },
    "kernelspec": {
      "name": "python3",
      "display_name": "Python 3"
    },
    "accelerator": "GPU"
  },
  "cells": [
    {
      "cell_type": "markdown",
      "metadata": {
        "id": "view-in-github",
        "colab_type": "text"
      },
      "source": [
        "<a href=\"https://colab.research.google.com/github/StevenTrivino/Specializacion/blob/main/lesson1-intro/intro_to_tensorflow.ipynb\" target=\"_parent\"><img src=\"https://colab.research.google.com/assets/colab-badge.svg\" alt=\"Open In Colab\"/></a>"
      ]
    },
    {
      "metadata": {
        "id": "0F6OBzl8Ohmc"
      },
      "cell_type": "markdown",
      "source": [
        "# TensorFlow"
      ]
    },
    {
      "metadata": {
        "id": "S2qQMOmzcmIJ"
      },
      "cell_type": "markdown",
      "source": [
        "** ¡Bienvenid@!**\n",
        "\n",
        "Este cuaderno es parte del curso de introducción a TensorFlow. Si has tenido experiencia previa con Jupyter, este ambiente te será muy familiar. Esto es Colaboratory, un ambiente de cuadernos de Python. En los cuadernos de Python hay celdas que tienen texto (Markdown, que nos permite darle mucho estilo) y celdas en las que hay código de Python.\n",
        "\n",
        "Puedes acceder a este cuaderno en [Colab](https://colab.research.google.com/drive/1TIIaFJnnQsL_BwwJQAjU-JkZvaRJ-ybC).\n",
        "\n",
        "Para introducir, Colab nos da mucha flexibilidad y nos facilitará el curso eliminando la necesidad de configuración e instalación en su sistema. [Colab](https://medium.com/tensorflow/colab-an-easy-way-to-learn-and-use-tensorflow-d74d1686e309) es gratuito y es de Google. Más adelante veremos que también nos da acceso gratuito a hardware como GPUs y TPUs. Colab ya tiene muchas herramientas, como TensorFlow, instaladas. Si has llegado aquí, probablemente estés accediendo a una copia de un cuaderno de GitHub. "
      ]
    },
    {
      "metadata": {
        "id": "et1xuqjITpJ-"
      },
      "cell_type": "markdown",
      "source": [
        "## Introducción"
      ]
    },
    {
      "metadata": {
        "id": "dWHmwhSreP-N"
      },
      "cell_type": "markdown",
      "source": [
        "Como se mencionó antes, Colab ya tiene TensorFlow instalado. En esta sección iniciamos importando la librería."
      ]
    },
    {
      "metadata": {
        "id": "X_e1MTKjLECR"
      },
      "cell_type": "code",
      "source": [
        "import tensorflow as tf"
      ],
      "execution_count": null,
      "outputs": []
    },
    {
      "metadata": {
        "id": "L5LLwJklnRHv"
      },
      "cell_type": "markdown",
      "source": [
        "En TensorFlow todo es un **grafo**. Luego veremos Eager Execution, pero con el modelo de grafos, TensorFlow separa la definición de las operaciones o computaciones de su ejecución. La idea es que primero se define el grafo y luego se ejecuta en una sesión. TensorFlow sigue un modelo de programación típico para programación paralela llamado DataFlow. En un grafo, los nodos representan unidades de computación y las aristas representan los datos consumidos o producidos. En otras palabras:\n",
        "\n",
        "*   Un nodo es una operación (`tf.Operation`). También puede tener variables y constantes, las cuales veremos pronto.\n",
        "*   Una arista son datos (`tf.Tensor`)\n",
        "\n",
        "Un **tensor** es un arreglo de n dimensiones. Un tensor de 0 dimensiones es un escalar (un número). Un tensor de 1 dimensión es un vector. Finalmente, un tensor de n dimensiones es una matriz.  El número de dimensiones es conocido como **rank**.\n",
        "\n",
        "En la siguiente celda se tiene una operación, [tf.add](https://www.tensorflow.org/api_docs/python/tf/math/add), que suma dos tensores (de 0 dimensiones). Más adelante veremos cómo visualizar los grafos con TensorBoard, pero, por ahora, ponemos aquí la imagen.\n",
        "\n",
        "![alt text](https://github.com/AILearnersMX/TensorFlow-Course/blob/master/lesson1-intro/add.png?raw=true)"
      ]
    },
    {
      "metadata": {
        "id": "bRX7yVTiOkPc",
        "outputId": "9cf544ba-d5c4-449a-f7cd-f4743c5cf7ed",
        "colab": {
          "base_uri": "https://localhost:8080/",
          "height": 34
        }
      },
      "cell_type": "code",
      "source": [
        "a = tf.add(3, 5)\n",
        "print(a)"
      ],
      "execution_count": null,
      "outputs": [
        {
          "output_type": "stream",
          "text": [
            "Tensor(\"Add_3:0\", shape=(), dtype=int32)\n"
          ],
          "name": "stdout"
        }
      ]
    },
    {
      "metadata": {
        "id": "HH1OpGY_pW3f"
      },
      "cell_type": "markdown",
      "source": [
        "Como se mencionó antes, el grafo está compuesto por operaciones, **ops**, las cuales reciben como entrada cero o más tensores o pueden generar nuevos tensores.\n",
        "\n",
        "Al utilizar `print`, no nos está desplegando el resultado esperado. En cambio, sólo imprime información del tensor. Se debe crear una **session** desde la cuál se ejecutará el grafo. En otras palabras, el código de antes sólo genera el grafo que determina los tamaños de los tensores y las operaciones que se ejecutarán dentro de él. Para que los valores fluyan a través del grafo, se debe hacer con una sesión."
      ]
    },
    {
      "metadata": {
        "id": "9g0viFiuOwnu",
        "outputId": "c5762200-9f86-48d5-c3f2-f54baf50e2a0",
        "colab": {
          "base_uri": "https://localhost:8080/",
          "height": 34
        }
      },
      "cell_type": "code",
      "source": [
        "sess = tf.Session()\n",
        "print(sess.run(a))\n",
        "sess.close()"
      ],
      "execution_count": null,
      "outputs": [
        {
          "output_type": "stream",
          "text": [
            "8\n"
          ],
          "name": "stdout"
        }
      ]
    },
    {
      "metadata": {
        "id": "z-JlR1q6P8E5",
        "outputId": "0af15e77-408b-435c-cad1-d040da56d6e5",
        "colab": {
          "base_uri": "https://localhost:8080/",
          "height": 34
        }
      },
      "cell_type": "code",
      "source": [
        "with tf.Session() as sess:\n",
        "  print(sess.run(a))"
      ],
      "execution_count": null,
      "outputs": [
        {
          "output_type": "stream",
          "text": [
            "8\n"
          ],
          "name": "stdout"
        }
      ]
    },
    {
      "metadata": {
        "id": "EAjl2x0NTtZF"
      },
      "cell_type": "markdown",
      "source": [
        "## Ventajas de grafo"
      ]
    },
    {
      "metadata": {
        "id": "VaWlL4OatGCV"
      },
      "cell_type": "markdown",
      "source": [
        "En la siguiente celda hacemos la siguiente operación:\n",
        "\n",
        "`(2*3)^(2+5)`\n",
        "\n",
        "![alt text](https://github.com/AILearnersMX/TensorFlow-Course/blob/master/lesson1-intro/complex_graph.png?raw=true)"
      ]
    },
    {
      "metadata": {
        "id": "L7vfJs3GQEfa",
        "outputId": "314aae59-156f-4b39-9ea3-b5c224a3a19f",
        "colab": {
          "base_uri": "https://localhost:8080/",
          "height": 34
        }
      },
      "cell_type": "code",
      "source": [
        "x = 2\n",
        "y = 3\n",
        "\n",
        "op1 = tf.add(x, y)         \n",
        "op2 = tf.multiply(x, y)    \n",
        "op3 = tf.pow(op2, op1)\n",
        "\n",
        "with tf.Session() as sess:\n",
        "  print(sess.run(op3))"
      ],
      "execution_count": null,
      "outputs": [
        {
          "output_type": "stream",
          "text": [
            "7776\n"
          ],
          "name": "stdout"
        }
      ]
    },
    {
      "metadata": {
        "id": "9p0Zj3srtbsJ"
      },
      "cell_type": "markdown",
      "source": [
        "Un grafo muestra las dependencias entre las operaciones. Esto evita ejecutar código innecesario. En la siguiente celda, tenemos una operación inutil, `useless`, que no se utiliza dentro de la sesión. Gracias a poder representar el programa como un grafo, esa operación nunca se ejecuta.\n",
        "\n",
        "![alt text](https://github.com/AILearnersMX/TensorFlow-Course/blob/master/lesson1-intro/useless_graph.png?raw=true)"
      ]
    },
    {
      "metadata": {
        "id": "4risUVWBQYCC",
        "outputId": "10bde334-6881-49a5-8adc-c85838c0374d",
        "colab": {
          "base_uri": "https://localhost:8080/",
          "height": 34
        }
      },
      "cell_type": "code",
      "source": [
        "x = 2\n",
        "y = 3\n",
        "\n",
        "op1 = tf.add(x, y)         \n",
        "op2 = tf.multiply(x, y)   \n",
        "op3 = tf.pow(op2, op1)\n",
        "useless = tf.multiply(x, op1)\n",
        "\n",
        "with tf.Session() as sess:\n",
        "  print(sess.run(op3))"
      ],
      "execution_count": null,
      "outputs": [
        {
          "output_type": "stream",
          "text": [
            "7776\n"
          ],
          "name": "stdout"
        }
      ]
    },
    {
      "metadata": {
        "id": "WCwTkmFQ0klZ"
      },
      "cell_type": "markdown",
      "source": [
        "La siguiente celda muestra cómo ejecutar más de una operación dentro de la sesión. Esta es una buena oportunidad para aprender a buscar en la documentación oficial. [tf.Session().run(...)](https://www.tensorflow.org/api_docs/python/tf/Session#run) tiene varios parámetros. El que nos interesa es `fetches`.\n",
        "\n",
        "Como dice la documentación, el método `run` ejecuta el fragmento del grafo necesario para ejecutar esa operación. Viendo la documentación, `sess.run` puede recibir una lista de elementos de grafo como tensores y operaciones. Aquí un ejemplo:"
      ]
    },
    {
      "metadata": {
        "id": "T1LQqM6zRM5E",
        "colab": {
          "base_uri": "https://localhost:8080/",
          "height": 34
        },
        "outputId": "1fcd1611-8370-449d-b464-187563e05309"
      },
      "cell_type": "code",
      "source": [
        "x = 2\n",
        "y = 3\n",
        "\n",
        "op1 = tf.add(x, y)         \n",
        "op2 = tf.multiply(x, y)   \n",
        "op3 = tf.pow(op2, op1)\n",
        "op4 = tf.multiply(x, op1)\n",
        "\n",
        "with tf.Session() as sess:\n",
        "  z, not_useless = sess.run([op3, op4])\n",
        "  print(z, not_useless)"
      ],
      "execution_count": null,
      "outputs": [
        {
          "output_type": "stream",
          "text": [
            "7776 10\n"
          ],
          "name": "stdout"
        }
      ]
    },
    {
      "metadata": {
        "id": "9jqqiwmBTlvP"
      },
      "cell_type": "markdown",
      "source": [
        "##Paralelización\n",
        "\n",
        "La siguiente celda nos permite determinar si hay un GPU disponibe. Por suerte, Colab nos da GPU y TPU gratuitos (con algunas limitaciones). En la barra de herramientas, podemos agregar GPU en: Runtime > Change Runtime Type > Hardware Acceleration > GPU. Nota que esto cambia a otro ambiente, por lo que tendrás que volver a correr las celdas para importar TensorFlow."
      ]
    },
    {
      "metadata": {
        "id": "C8mc52DWU5-V",
        "outputId": "c2ae9e7a-64b6-439a-d46e-6ef723c41010",
        "colab": {
          "base_uri": "https://localhost:8080/",
          "height": 52
        }
      },
      "cell_type": "code",
      "source": [
        "print(tf.test.is_gpu_available())\n",
        "print(tf.test.gpu_device_name())"
      ],
      "execution_count": null,
      "outputs": [
        {
          "output_type": "stream",
          "text": [
            "True\n",
            "/device:GPU:0\n"
          ],
          "name": "stdout"
        }
      ]
    },
    {
      "metadata": {
        "id": "B4Yt_EroWt4j"
      },
      "cell_type": "markdown",
      "source": [
        "En la siguiente celda hacemos algo llamado explicit device placement. Esto significa que podemos ejecutar algo directamente en un pedazo de hardware específico. En este ejemplo se multiplican dos tensores constantes. "
      ]
    },
    {
      "metadata": {
        "id": "qlH8LMRoRh3A",
        "outputId": "33039373-37a4-4015-af0a-50ecc95bf245",
        "colab": {
          "base_uri": "https://localhost:8080/",
          "height": 34
        }
      },
      "cell_type": "code",
      "source": [
        "with tf.device('/gpu:0'):\n",
        "  a = tf.constant([1.0, 2.0, 3.0], name='a')\n",
        "  b = tf.constant([1.0, 2.0, 5.0], name='b')\n",
        "  c = tf.multiply(a, b)\n",
        "  \n",
        "  \n",
        "sess = tf.Session(config=tf.ConfigProto(log_device_placement=True))\n",
        "print(sess.run(c))"
      ],
      "execution_count": null,
      "outputs": [
        {
          "output_type": "stream",
          "text": [
            "[ 1.  4. 15.]\n"
          ],
          "name": "stdout"
        }
      ]
    },
    {
      "metadata": {
        "id": "F7dN1h8pTjZS"
      },
      "cell_type": "markdown",
      "source": [
        "## Eager Execution"
      ]
    },
    {
      "metadata": {
        "id": "5-xqZIKB7gJG"
      },
      "cell_type": "markdown",
      "source": [
        "Eager Execution es un modelo imperativo de TensorFlow que evita tener que ejecutar sesiones y crear grafos. En un taller más adelante entraremos en mayor detalle, pero mostraremos su funcionamiento en alto nivel.\n",
        "\n",
        "Con Eager Execution, el grafo se ejecuta directamente. Sus ventajas son:\n",
        "\n",
        "*   Más intuitivo y fácil de aprender. Funciona más parecido al código de Python normal.\n",
        "*   Más fácil de hacer debugging en este modelo.\n",
        "*   Reduce código boilerplate.\n",
        "*   Flujo más sencillo.\n",
        "\n",
        "Pero también tiene desventajas:\n",
        "\n",
        "*   No funciona tan bien al distribuirlo.\n",
        "*   Peor desempeño en producción\n",
        "\n",
        "¡No se preocupen! Ambas técnicas se pueden mezclar. Se puede convertir código de Eager Execution a grafo sin dificultad, pero esto lo veremos más adelante. Es importante destacar que en TensorFlow 2.0, Eager Execution será central y estará habilidado por defecto. Antes de correr la siguiente celda, es necesario que reinicies el ambiente (Runtime > Restart Runtime )."
      ]
    },
    {
      "metadata": {
        "id": "X4KO8spaRTP9"
      },
      "cell_type": "code",
      "source": [
        "import tensorflow as tf\n",
        "tf.enable_eager_execution()"
      ],
      "execution_count": null,
      "outputs": []
    },
    {
      "metadata": {
        "id": "V2fFIT0sY5bu",
        "outputId": "10b3682a-3b4f-4118-f596-0945f652d1f3",
        "colab": {
          "base_uri": "https://localhost:8080/",
          "height": 34
        }
      },
      "cell_type": "code",
      "source": [
        "tf.executing_eagerly() "
      ],
      "execution_count": null,
      "outputs": [
        {
          "output_type": "execute_result",
          "data": {
            "text/plain": [
              "True"
            ]
          },
          "metadata": {
            "tags": []
          },
          "execution_count": 2
        }
      ]
    },
    {
      "metadata": {
        "id": "wNl3dmlTTxQ1",
        "outputId": "11f5bae0-b7a9-4776-acbc-cf0f526d66c8",
        "colab": {
          "base_uri": "https://localhost:8080/",
          "height": 34
        }
      },
      "cell_type": "code",
      "source": [
        "print(tf.add([1, 2], [2, 1]))"
      ],
      "execution_count": null,
      "outputs": [
        {
          "output_type": "stream",
          "text": [
            "tf.Tensor([3 3], shape=(2,), dtype=int32)\n"
          ],
          "name": "stdout"
        }
      ]
    },
    {
      "metadata": {
        "id": "jXFp66NIUBcA",
        "outputId": "1d84fefd-c9e0-418a-f569-97138880c565",
        "colab": {
          "base_uri": "https://localhost:8080/",
          "height": 70
        }
      },
      "cell_type": "code",
      "source": [
        "print(tf.square(5))\n",
        "print(tf.reduce_sum([1, 2, 3]))\n",
        "print(tf.encode_base64(\"hello world\"))"
      ],
      "execution_count": null,
      "outputs": [
        {
          "output_type": "stream",
          "text": [
            "tf.Tensor(25, shape=(), dtype=int32)\n",
            "tf.Tensor(6, shape=(), dtype=int32)\n",
            "tf.Tensor(b'aGVsbG8gd29ybGQ', shape=(), dtype=string)\n"
          ],
          "name": "stdout"
        }
      ]
    },
    {
      "metadata": {
        "id": "kA9cVjtlUG0x",
        "outputId": "05cab735-42d5-4009-bea3-7cdd987861c4",
        "colab": {
          "base_uri": "https://localhost:8080/",
          "height": 52
        }
      },
      "cell_type": "code",
      "source": [
        "x = tf.matmul([[1]], [[2, 3]])\n",
        "print(x.shape)\n",
        "print(x.dtype)"
      ],
      "execution_count": null,
      "outputs": [
        {
          "output_type": "stream",
          "text": [
            "(1, 2)\n",
            "<dtype: 'int32'>\n"
          ],
          "name": "stdout"
        }
      ]
    },
    {
      "metadata": {
        "id": "AZ6eeVDOUr3F"
      },
      "cell_type": "markdown",
      "source": [
        "## NumPy y TensorFlow"
      ]
    },
    {
      "metadata": {
        "id": "N5byHu7__Ojp"
      },
      "cell_type": "markdown",
      "source": [
        "Cerramos el cuaderno hablando de la compatibilidad entre NumPy y TensorFlow. A diferencias de los `ndarray`s, `Tensor` es inmutable y tiene accesso a memoria acelerada (GPU). Aún así, trabajar con NumPy y TensorFlow es extremadamente sencillo y podemos utilizar ambos en un proyecto (es lo normal)."
      ]
    },
    {
      "metadata": {
        "id": "6mW7UNlLULdL"
      },
      "cell_type": "code",
      "source": [
        "import numpy as np\n",
        "\n",
        "many_ones = np.ones([3, 3])"
      ],
      "execution_count": null,
      "outputs": []
    },
    {
      "metadata": {
        "id": "uLf3SD1e_rWu"
      },
      "cell_type": "markdown",
      "source": [
        "Cualquier op que reciba un `ndarray` lo convertirá directamente a un tensor."
      ]
    },
    {
      "metadata": {
        "id": "DZkaV-B8UwSb",
        "outputId": "da0408da-d960-46c5-b7d8-d35355c88eca",
        "colab": {
          "base_uri": "https://localhost:8080/",
          "height": 87
        }
      },
      "cell_type": "code",
      "source": [
        "tensor = tf.multiply(many_ones, 42)\n",
        "print(tensor)"
      ],
      "execution_count": null,
      "outputs": [
        {
          "output_type": "stream",
          "text": [
            "tf.Tensor(\n",
            "[[42. 42. 42.]\n",
            " [42. 42. 42.]\n",
            " [42. 42. 42.]], shape=(3, 3), dtype=float64)\n"
          ],
          "name": "stdout"
        }
      ]
    },
    {
      "metadata": {
        "id": "WShvaH8E_9Bq"
      },
      "cell_type": "markdown",
      "source": [
        "A su vez, las operaciones de NumPy pueden recibir un tensor directamente."
      ]
    },
    {
      "metadata": {
        "id": "2ZYX44MSUwfj",
        "outputId": "6c7eede8-892a-4f36-d2b7-942c92faecb4",
        "colab": {
          "base_uri": "https://localhost:8080/",
          "height": 70
        }
      },
      "cell_type": "code",
      "source": [
        "print(np.add(tensor, 1))"
      ],
      "execution_count": null,
      "outputs": [
        {
          "output_type": "stream",
          "text": [
            "[[43. 43. 43.]\n",
            " [43. 43. 43.]\n",
            " [43. 43. 43.]]\n"
          ],
          "name": "stdout"
        }
      ]
    },
    {
      "metadata": {
        "id": "1UH82H92UzEs",
        "outputId": "02ec6c72-2d81-40cd-ab25-0bc426972a36",
        "colab": {
          "base_uri": "https://localhost:8080/",
          "height": 34
        }
      },
      "cell_type": "code",
      "source": [
        "print(type(tensor))"
      ],
      "execution_count": null,
      "outputs": [
        {
          "output_type": "stream",
          "text": [
            "<class 'tensorflow.python.framework.ops.EagerTensor'>\n"
          ],
          "name": "stdout"
        }
      ]
    },
    {
      "metadata": {
        "id": "iSXfq-CpA_8f"
      },
      "cell_type": "code",
      "source": [],
      "execution_count": null,
      "outputs": []
    }
  ]
}